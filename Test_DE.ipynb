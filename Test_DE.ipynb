{
 "cells": [
  {
   "cell_type": "code",
   "execution_count": 14,
   "metadata": {},
   "outputs": [],
   "source": [
    "import matplotlib.pyplot as plt\n",
    "import pandas as pd\n",
    "import numpy as np\n",
    "import seaborn as sn\n",
    "from sklearn.cluster import KMeans\n",
    "from scipy.cluster.vq import kmeans,vq\n",
    "from scipy.spatial.distance import cdist"
   ]
  },
  {
   "cell_type": "code",
   "execution_count": 15,
   "metadata": {},
   "outputs": [
    {
     "data": {
      "text/html": [
       "<div>\n",
       "<style scoped>\n",
       "    .dataframe tbody tr th:only-of-type {\n",
       "        vertical-align: middle;\n",
       "    }\n",
       "\n",
       "    .dataframe tbody tr th {\n",
       "        vertical-align: top;\n",
       "    }\n",
       "\n",
       "    .dataframe thead th {\n",
       "        text-align: right;\n",
       "    }\n",
       "</style>\n",
       "<table border=\"1\" class=\"dataframe\">\n",
       "  <thead>\n",
       "    <tr style=\"text-align: right;\">\n",
       "      <th></th>\n",
       "      <th>number</th>\n",
       "      <th>name</th>\n",
       "      <th>address</th>\n",
       "      <th>latitude</th>\n",
       "      <th>longitude</th>\n",
       "    </tr>\n",
       "  </thead>\n",
       "  <tbody>\n",
       "    <tr>\n",
       "      <th>0</th>\n",
       "      <td>122</td>\n",
       "      <td>122 - LOWER RIVER TCE / ELLIS ST</td>\n",
       "      <td>Lower River Tce / Ellis St</td>\n",
       "      <td>-27.482279</td>\n",
       "      <td>153.028723</td>\n",
       "    </tr>\n",
       "    <tr>\n",
       "      <th>1</th>\n",
       "      <td>91</td>\n",
       "      <td>91 - MAIN ST / DARRAGH ST</td>\n",
       "      <td>Main St / Darragh St</td>\n",
       "      <td>-27.470590</td>\n",
       "      <td>153.036046</td>\n",
       "    </tr>\n",
       "    <tr>\n",
       "      <th>2</th>\n",
       "      <td>88</td>\n",
       "      <td>88 - SYDNEY ST FERRY TERMINAL / PARK</td>\n",
       "      <td>Sydney St Ferry Terminal / Park</td>\n",
       "      <td>-27.474531</td>\n",
       "      <td>153.042728</td>\n",
       "    </tr>\n",
       "    <tr>\n",
       "      <th>3</th>\n",
       "      <td>75</td>\n",
       "      <td>75 - BROWNE ST / JAMES ST</td>\n",
       "      <td>Browne St / James St</td>\n",
       "      <td>-27.461881</td>\n",
       "      <td>153.046986</td>\n",
       "    </tr>\n",
       "    <tr>\n",
       "      <th>4</th>\n",
       "      <td>98</td>\n",
       "      <td>98 - KURILPA POINT / MONTAGUE RD</td>\n",
       "      <td>Kurilpa Point / Montague Rd</td>\n",
       "      <td>-27.469658</td>\n",
       "      <td>153.016696</td>\n",
       "    </tr>\n",
       "  </tbody>\n",
       "</table>\n",
       "</div>"
      ],
      "text/plain": [
       "   number                                  name  \\\n",
       "0     122      122 - LOWER RIVER TCE / ELLIS ST   \n",
       "1      91             91 - MAIN ST / DARRAGH ST   \n",
       "2      88  88 - SYDNEY ST FERRY TERMINAL / PARK   \n",
       "3      75             75 - BROWNE ST / JAMES ST   \n",
       "4      98      98 - KURILPA POINT / MONTAGUE RD   \n",
       "\n",
       "                           address   latitude   longitude  \n",
       "0       Lower River Tce / Ellis St -27.482279  153.028723  \n",
       "1             Main St / Darragh St -27.470590  153.036046  \n",
       "2  Sydney St Ferry Terminal / Park -27.474531  153.042728  \n",
       "3             Browne St / James St -27.461881  153.046986  \n",
       "4      Kurilpa Point / Montague Rd -27.469658  153.016696  "
      ]
     },
     "execution_count": 15,
     "metadata": {},
     "output_type": "execute_result"
    }
   ],
   "source": [
    "# Reading the data into panda Dataframe\n",
    "df = pd.read_json(\"Brisbane_CityBike.json\")\n",
    "df.head()"
   ]
  },
  {
   "cell_type": "code",
   "execution_count": 16,
   "metadata": {
    "scrolled": true
   },
   "outputs": [
    {
     "name": "stdout",
     "output_type": "stream",
     "text": [
      "<class 'pandas.core.frame.DataFrame'>\n",
      "RangeIndex: 149 entries, 0 to 148\n",
      "Data columns (total 5 columns):\n",
      " #   Column     Non-Null Count  Dtype  \n",
      "---  ------     --------------  -----  \n",
      " 0   number     149 non-null    int64  \n",
      " 1   name       149 non-null    object \n",
      " 2   address    149 non-null    object \n",
      " 3   latitude   149 non-null    float64\n",
      " 4   longitude  149 non-null    float64\n",
      "dtypes: float64(2), int64(1), object(2)\n",
      "memory usage: 5.9+ KB\n"
     ]
    }
   ],
   "source": [
    "# Checking the state of our data and analysing \n",
    "df.info()"
   ]
  },
  {
   "cell_type": "code",
   "execution_count": 17,
   "metadata": {},
   "outputs": [
    {
     "name": "stdout",
     "output_type": "stream",
     "text": [
      "            number    latitude   longitude\n",
      "count   149.000000  149.000000  149.000000\n",
      "mean     83.194631  -27.471305  153.025083\n",
      "std      94.320019    0.010892    0.015057\n",
      "min       1.000000  -27.499963  152.990627\n",
      "25%      40.000000  -27.478653  153.014760\n",
      "50%      77.000000  -27.470110  153.026861\n",
      "75%     114.000000  -27.464681  153.035533\n",
      "max    1101.000000  -27.448074  153.053645\n"
     ]
    }
   ],
   "source": [
    "print(df.describe())"
   ]
  },
  {
   "cell_type": "code",
   "execution_count": 19,
   "metadata": {},
   "outputs": [],
   "source": [
    "# the data seems to be clean ( no missing values and no NULL values)\n",
    "# The feature \"Name\" is already composed of the rest of features of our data (location and number) \n",
    "# it will be more intersting if we make the clustering by only basing on the location of the stations ( latitude, longtitude)"
   ]
  },
  {
   "cell_type": "code",
   "execution_count": 20,
   "metadata": {},
   "outputs": [],
   "source": [
    "#Extracting the coordinates of the location\n",
    "coord = df.loc[:,['latitude','longitude']]"
   ]
  },
  {
   "cell_type": "code",
   "execution_count": 21,
   "metadata": {},
   "outputs": [],
   "source": [
    "#Find the right number of clusters by performing kmeans\n",
    "K = range(1,11)  \n",
    "#kmeans from 1 to 10\n",
    "KM = [kmeans(coord,k) for k in K] \n",
    "centroids = [cent for (cent,var) in KM]   # cluster centroids\n",
    "#calculate Euclidian distance between the stations to measure similarity\n",
    "Dk = [cdist(coord, cent, 'euclidean') for cent in centroids]\n",
    "\n",
    "dist = [np.min(D,axis=1) for D in Dk]\n",
    "avgWithinSS = [sum(d)/coord.shape[0] for d in dist]  "
   ]
  },
  {
   "cell_type": "code",
   "execution_count": 22,
   "metadata": {},
   "outputs": [
    {
     "data": {
      "image/png": "[encoded data removed]",
      "text/plain": [
       "<Figure size 432x288 with 1 Axes>"
      ]
     },
     "metadata": {
      "needs_background": "light"
     },
     "output_type": "display_data"
    }
   ],
   "source": [
    "\n",
    "# plot curve to visualize the optimized number of cluster\n",
    "fig = plt.figure()\n",
    "ax = fig.add_subplot(111)\n",
    "ax.plot(K, avgWithinSS, 'b.-')\n",
    "ax.plot(K[2], avgWithinSS[2], 'r.')\n",
    "plt.xlabel('Number of clusters')\n",
    "plt.ylabel('Average number in cluster sum of squares')\n",
    "plt.title(str('Optimized number of Clusters = ') + str(K[2]))  \n",
    "plt.show()"
   ]
  },
  {
   "cell_type": "code",
   "execution_count": 27,
   "metadata": {},
   "outputs": [],
   "source": [
    "#K-Means clustering\n",
    "nb_cluster = 3   #number of clusters\n",
    "kmeans = KMeans(n_clusters=nb_cluster, random_state=1).fit(coord)\n",
    "label=kmeans.labels_"
   ]
  },
  {
   "cell_type": "code",
   "execution_count": 29,
   "metadata": {},
   "outputs": [
    {
     "data": {
      "image/png": "[encoded data removed]",
      "text/plain": [
       "<Figure size 432x288 with 1 Axes>"
      ]
     },
     "metadata": {
      "needs_background": "light"
     },
     "output_type": "display_data"
    }
   ],
   "source": [
    "#visualization of the clustering results\n",
    "plt.ylabel('Longitude')\n",
    "plt.xlabel('Latitude')\n",
    "for i in range(nb_cluster):\n",
    "    cluster=np.where(label==i)[0]\n",
    "    plt.plot(coord.latitude[cluster].values,coord.longitude[cluster].values,'*')\n",
    "plt.title('Clustering based on coordination of bike stations')  \n",
    "plt.show()"
   ]
  },
  {
   "cell_type": "code",
   "execution_count": null,
   "metadata": {},
   "outputs": [],
   "source": []
  }
 ],
 "metadata": {
  "kernelspec": {
   "display_name": "Python 3",
   "language": "python",
   "name": "python3"
  },
  "language_info": {
   "codemirror_mode": {
    "name": "ipython",
    "version": 3
   },
   "file_extension": ".py",
   "mimetype": "text/x-python",
   "name": "python",
   "nbconvert_exporter": "python",
   "pygments_lexer": "ipython3",
   "version": "3.8.6"
  }
 },
 "nbformat": 4,
 "nbformat_minor": 2
}
