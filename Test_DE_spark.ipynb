{
 "cells": [
  {
   "cell_type": "code",
   "execution_count": 1,
   "metadata": {},
   "outputs": [],
   "source": [
    "from pyspark.ml.clustering import KMeans \n",
    "from pyspark import SparkContext \n",
    "from pyspark.sql import SQLContext \n",
    "from pyspark.sql.functions import isnan, when, count, col \n",
    "from pyspark.ml.feature import StringIndexer \n",
    "import matplotlib.pyplot as plt \n",
    "from pyspark.ml.linalg import Vectors \n",
    "from pyspark.ml.feature import VectorAssembler "
   ]
  },
  {
   "cell_type": "code",
   "execution_count": 2,
   "metadata": {},
   "outputs": [],
   "source": [
    "#get Spark connexion:\n",
    "spc = SparkContext('local', 'Spark SQL') \n",
    "sqlc = SQLContext(spc)"
   ]
  },
  {
   "cell_type": "code",
   "execution_count": 3,
   "metadata": {},
   "outputs": [],
   "source": [
    "#Get the data\n",
    "path = \"Brisbane_CityBike.json\"\n",
    "sdf = sqlc.read.json(path)"
   ]
  },
  {
   "cell_type": "code",
   "execution_count": 4,
   "metadata": {},
   "outputs": [
    {
     "name": "stdout",
     "output_type": "stream",
     "text": [
      "+-------+--------------------+-------------------+--------------------+--------------------+-----------------+\n",
      "|summary|             address|           latitude|           longitude|                name|           number|\n",
      "+-------+--------------------+-------------------+--------------------+--------------------+-----------------+\n",
      "|  count|                 149|                149|                 149|                 149|              149|\n",
      "|   mean|                null| -27.47130457718122|  153.02508301342277|                null|83.19463087248322|\n",
      "| stddev|                null|0.01089151504934133|0.015056701432027432|                null|94.32001864357125|\n",
      "|    min|38 - Ann St / Cre...|         -27.499963|          152.990627|1 - EDWARD ST / Q...|                1|\n",
      "|    max|Wickham St / Murr...|         -27.448074|          153.053645|99 - CORDELIA ST ...|             1101|\n",
      "+-------+--------------------+-------------------+--------------------+--------------------+-----------------+\n",
      "\n",
      "None\n",
      "+-------+--------+---------+----+------+\n",
      "|address|latitude|longitude|name|number|\n",
      "+-------+--------+---------+----+------+\n",
      "|      0|       0|        0|   0|     0|\n",
      "+-------+--------+---------+----+------+\n",
      "\n"
     ]
    }
   ],
   "source": [
    "#Checking the state of our data and analysing \n",
    "print(sdf.describe().show())\n",
    "sdf.select([count(when(isnan(c) | col(c).isNull(), c)).alias(c) for c in sdf.columns]).show()"
   ]
  },
  {
   "cell_type": "code",
   "execution_count": 19,
   "metadata": {},
   "outputs": [
    {
     "name": "stdout",
     "output_type": "stream",
     "text": [
      "[Row(latitude=-27.482279, longitude=153.028723, features=DenseVector([-27.4823, 153.0287]), prediction=2), Row(latitude=-27.47059, longitude=153.036046, features=DenseVector([-27.4706, 153.036]), prediction=2), Row(latitude=-27.474531, longitude=153.042728, features=DenseVector([-27.4745, 153.0427]), prediction=1), Row(latitude=-27.461881, longitude=153.046986, features=DenseVector([-27.4619, 153.047]), prediction=1), Row(latitude=-27.469658, longitude=153.016696, features=DenseVector([-27.4697, 153.0167]), prediction=2), Row(latitude=-27.48172, longitude=153.00436, features=DenseVector([-27.4817, 153.0044]), prediction=0), Row(latitude=-27.493626, longitude=153.001482, features=DenseVector([-27.4936, 153.0015]), prediction=0), Row(latitude=-27.476076, longitude=153.002459, features=DenseVector([-27.4761, 153.0025]), prediction=0), Row(latitude=-27.493963, longitude=153.011938, features=DenseVector([-27.494, 153.0119]), prediction=0), Row(latitude=-27.482197, longitude=153.020894, features=DenseVector([-27.4822, 153.0209]), prediction=2)]\n"
     ]
    }
   ],
   "source": [
    "# Applying Kmeans \n",
    "\n",
    "coordination =['latitude','longitude']\n",
    "df = sdf.select(\"latitude\", \"longitude\")\n",
    "# regroup the coordination in one vector \n",
    "assembler = VectorAssembler(inputCols= coordination,outputCol=\"features\")\n",
    "X = assembler.transform(df)\n",
    "\n",
    "#Initsializing the the number of clusters into 3\n",
    "kmeans = KMeans().setK(3).setSeed(1) \n",
    "\n",
    "\n",
    "#train the model\n",
    "model =  kmeans.fit(X)\n",
    "\n",
    "#results of KMeans.\n",
    "results = model.transform(X)\n",
    "\n",
    "#print the results(10 first rows)\n",
    "print(results.head(10))\n"
   ]
  },
  {
   "cell_type": "code",
   "execution_count": null,
   "metadata": {},
   "outputs": [],
   "source": []
  }
 ],
 "metadata": {
  "kernelspec": {
   "display_name": "Python 3",
   "language": "python",
   "name": "python3"
  },
  "language_info": {
   "codemirror_mode": {
    "name": "ipython",
    "version": 3
   },
   "file_extension": ".py",
   "mimetype": "text/x-python",
   "name": "python",
   "nbconvert_exporter": "python",
   "pygments_lexer": "ipython3",
   "version": "3.8.6"
  }
 },
 "nbformat": 4,
 "nbformat_minor": 4
}
